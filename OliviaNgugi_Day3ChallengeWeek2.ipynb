{
  "nbformat": 4,
  "nbformat_minor": 0,
  "metadata": {
    "colab": {
      "provenance": []
    },
    "kernelspec": {
      "name": "python3",
      "display_name": "Python 3"
    },
    "language_info": {
      "name": "python"
    }
  },
  "cells": [
    {
      "cell_type": "code",
      "source": [
        "!pip install pymysql"
      ],
      "metadata": {
        "colab": {
          "base_uri": "https://localhost:8080/"
        },
        "id": "n_OutEHNGz4l",
        "outputId": "51270031-7bf5-4abc-eb06-e50edae080b9"
      },
      "execution_count": null,
      "outputs": [
        {
          "output_type": "stream",
          "name": "stdout",
          "text": [
            "Collecting pymysql\n",
            "  Downloading PyMySQL-1.1.0-py3-none-any.whl (44 kB)\n",
            "\u001b[?25l     \u001b[90m━━━━━━━━━━━━━━━━━━━━━━━━━━━━━━━━━━━━━━━━\u001b[0m \u001b[32m0.0/44.8 kB\u001b[0m \u001b[31m?\u001b[0m eta \u001b[36m-:--:--\u001b[0m\r\u001b[2K     \u001b[90m━━━━━━━━━━━━━━━━━━━━━━━━━━━━━━━━━━━━━━━━\u001b[0m \u001b[32m44.8/44.8 kB\u001b[0m \u001b[31m1.7 MB/s\u001b[0m eta \u001b[36m0:00:00\u001b[0m\n",
            "\u001b[?25hInstalling collected packages: pymysql\n",
            "Successfully installed pymysql-1.1.0\n"
          ]
        }
      ]
    },
    {
      "cell_type": "code",
      "execution_count": null,
      "metadata": {
        "id": "cukzBEsNEOp6"
      },
      "outputs": [],
      "source": [
        "%load_ext sql"
      ]
    },
    {
      "cell_type": "markdown",
      "source": [
        "New data base ABC_DATA Week 1 day 1 and 2"
      ],
      "metadata": {
        "id": "1iCUM1DJIlu8"
      }
    },
    {
      "cell_type": "code",
      "source": [
        "%sql sqlite:///ABC_DATA.db"
      ],
      "metadata": {
        "id": "RfHOjLj_Itay"
      },
      "execution_count": null,
      "outputs": []
    },
    {
      "cell_type": "markdown",
      "source": [
        "Create 4 tables , Customers, Products, Orders and Order_items using CREATE TABLE command."
      ],
      "metadata": {
        "id": "rcmCLtdZPqBo"
      }
    },
    {
      "cell_type": "code",
      "source": [
        "%%sql CREATE TABLE Customers(\n",
        "    customer_id VARCHAR(25), first_name VARCHAR(25), last_name VARCHAR(25), email VARCHAR(25)\n",
        "    );"
      ],
      "metadata": {
        "colab": {
          "base_uri": "https://localhost:8080/"
        },
        "id": "Hc_hQf6SJHAk",
        "outputId": "66fa039f-6ad2-4add-97fb-f5e7d5a60797"
      },
      "execution_count": null,
      "outputs": [
        {
          "output_type": "stream",
          "name": "stdout",
          "text": [
            "   sqlite:///ABC_DARA\n",
            "   sqlite:///ABC_DARA2ab.ipnyb\n",
            "   sqlite:///ABC_DATA\n",
            " * sqlite:///ABC_DATA.db\n",
            "   sqlite:///ABC_DATA2ab.ipnyb\n",
            "(sqlite3.OperationalError) table Customers already exists\n",
            "[SQL: CREATE TABLE Customers(\n",
            "    customer_id VARCHAR(25), first_name VARCHAR(25), last_name VARCHAR(25), email VARCHAR(25)\n",
            "    );]\n",
            "(Background on this error at: https://sqlalche.me/e/20/e3q8)\n"
          ]
        }
      ]
    },
    {
      "cell_type": "code",
      "source": [
        "%%sql CREATE TABLE Products(\n",
        "    product_id INT(10), product_name VARCHAR(25), price DECIMAL(10,2)\n",
        ");"
      ],
      "metadata": {
        "colab": {
          "base_uri": "https://localhost:8080/"
        },
        "id": "CfURLMPaNipN",
        "outputId": "a0a4f58e-b73d-47da-a090-b74ca60f2c93"
      },
      "execution_count": null,
      "outputs": [
        {
          "output_type": "stream",
          "name": "stdout",
          "text": [
            "   sqlite:///ABC_DARA\n",
            "   sqlite:///ABC_DARA2ab.ipnyb\n",
            "   sqlite:///ABC_DATA\n",
            " * sqlite:///ABC_DATA.db\n",
            "   sqlite:///ABC_DATA2ab.ipnyb\n",
            "Done.\n"
          ]
        },
        {
          "output_type": "execute_result",
          "data": {
            "text/plain": [
              "[]"
            ]
          },
          "metadata": {},
          "execution_count": 29
        }
      ]
    },
    {
      "cell_type": "code",
      "source": [
        "%%sql CREATE TABLE Orders(\n",
        "    order_id INT(10), cutomer_id INT(10), order_date \"YYYY-MM-DD\"\n",
        ");"
      ],
      "metadata": {
        "colab": {
          "base_uri": "https://localhost:8080/"
        },
        "id": "N3xn45_7N3si",
        "outputId": "cfd54633-ce71-4fb9-ebae-f29d1db987cd"
      },
      "execution_count": 65,
      "outputs": [
        {
          "output_type": "stream",
          "name": "stdout",
          "text": [
            "   sqlite:///ABC_DARA\n",
            "   sqlite:///ABC_DARA2ab.ipnyb\n",
            "   sqlite:///ABC_DATA\n",
            " * sqlite:///ABC_DATA.db\n",
            "   sqlite:///ABC_DATA2ab.ipnyb\n",
            "(sqlite3.OperationalError) table Orders already exists\n",
            "[SQL: CREATE TABLE Orders(\n",
            "    order_id INT(10), cutomer_id INT(10), order_date \"YYYY-MM-DD\"\n",
            ");]\n",
            "(Background on this error at: https://sqlalche.me/e/20/e3q8)\n"
          ]
        }
      ]
    },
    {
      "cell_type": "code",
      "source": [
        "%sql DROP TABLE Orders;"
      ],
      "metadata": {
        "colab": {
          "base_uri": "https://localhost:8080/"
        },
        "id": "bncd3CJungwD",
        "outputId": "a14417b0-fd3b-474d-e0e9-dedae6182996"
      },
      "execution_count": 67,
      "outputs": [
        {
          "output_type": "stream",
          "name": "stdout",
          "text": [
            "   sqlite:///ABC_DARA\n",
            "   sqlite:///ABC_DARA2ab.ipnyb\n",
            "   sqlite:///ABC_DATA\n",
            " * sqlite:///ABC_DATA.db\n",
            "   sqlite:///ABC_DATA2ab.ipnyb\n",
            "Done.\n"
          ]
        },
        {
          "output_type": "execute_result",
          "data": {
            "text/plain": [
              "[]"
            ]
          },
          "metadata": {},
          "execution_count": 67
        }
      ]
    },
    {
      "cell_type": "code",
      "source": [
        "%%sql CREATE TABLE Orders(\n",
        "    order_id INT(10), customer_id INT(10), order_date 'YYYY,MM,DD'\n",
        ");\n",
        ""
      ],
      "metadata": {
        "colab": {
          "base_uri": "https://localhost:8080/"
        },
        "id": "fJ0En6Knno0F",
        "outputId": "affd725d-a039-4626-aa7f-233d69c5e01f"
      },
      "execution_count": 68,
      "outputs": [
        {
          "output_type": "stream",
          "name": "stdout",
          "text": [
            "   sqlite:///ABC_DARA\n",
            "   sqlite:///ABC_DARA2ab.ipnyb\n",
            "   sqlite:///ABC_DATA\n",
            " * sqlite:///ABC_DATA.db\n",
            "   sqlite:///ABC_DATA2ab.ipnyb\n",
            "Done.\n"
          ]
        },
        {
          "output_type": "execute_result",
          "data": {
            "text/plain": [
              "[]"
            ]
          },
          "metadata": {},
          "execution_count": 68
        }
      ]
    },
    {
      "cell_type": "code",
      "source": [
        "%%sql CREATE TABLE Order_items(\n",
        " oder_id INT(10), product_id INT(10) PRIMARY KEY, qualtity INT(10)\n",
        ");"
      ],
      "metadata": {
        "colab": {
          "base_uri": "https://localhost:8080/"
        },
        "id": "aSnWRH17Oq8G",
        "outputId": "8ab6b999-b964-4ba8-c53e-a32a6948cc99"
      },
      "execution_count": null,
      "outputs": [
        {
          "output_type": "stream",
          "name": "stdout",
          "text": [
            "   sqlite:///ABC_DARA\n",
            "   sqlite:///ABC_DARA2ab.ipnyb\n",
            "   sqlite:///ABC_DATA\n",
            " * sqlite:///ABC_DATA.db\n",
            "   sqlite:///ABC_DATA2ab.ipnyb\n",
            "Done.\n"
          ]
        },
        {
          "output_type": "execute_result",
          "data": {
            "text/plain": [
              "[]"
            ]
          },
          "metadata": {},
          "execution_count": 33
        }
      ]
    },
    {
      "cell_type": "code",
      "source": [
        "%%sql DROP TABLE Order_items;"
      ],
      "metadata": {
        "colab": {
          "base_uri": "https://localhost:8080/"
        },
        "id": "_jsIZ5fEpyi-",
        "outputId": "83850d6d-bf74-46e4-b6bd-6e6c1c76bf84"
      },
      "execution_count": 72,
      "outputs": [
        {
          "output_type": "stream",
          "name": "stdout",
          "text": [
            "   sqlite:///ABC_DARA\n",
            "   sqlite:///ABC_DARA2ab.ipnyb\n",
            "   sqlite:///ABC_DATA\n",
            " * sqlite:///ABC_DATA.db\n",
            "   sqlite:///ABC_DATA2ab.ipnyb\n",
            "Done.\n"
          ]
        },
        {
          "output_type": "execute_result",
          "data": {
            "text/plain": [
              "[]"
            ]
          },
          "metadata": {},
          "execution_count": 72
        }
      ]
    },
    {
      "cell_type": "code",
      "source": [
        "%%sql CREATE TABLE Order_items(\n",
        "   order_id INT(10), product_id INT(10), quantity INT(10)\n",
        ");"
      ],
      "metadata": {
        "colab": {
          "base_uri": "https://localhost:8080/"
        },
        "id": "L0YIo1e1pbRK",
        "outputId": "fd7aafd5-0c5b-45b7-bfdb-4dd25500293d"
      },
      "execution_count": 75,
      "outputs": [
        {
          "output_type": "stream",
          "name": "stdout",
          "text": [
            "   sqlite:///ABC_DARA\n",
            "   sqlite:///ABC_DARA2ab.ipnyb\n",
            "   sqlite:///ABC_DATA\n",
            " * sqlite:///ABC_DATA.db\n",
            "   sqlite:///ABC_DATA2ab.ipnyb\n",
            "Done.\n"
          ]
        },
        {
          "output_type": "execute_result",
          "data": {
            "text/plain": [
              "[]"
            ]
          },
          "metadata": {},
          "execution_count": 75
        }
      ]
    },
    {
      "cell_type": "markdown",
      "source": [
        "Populate VALUES into each table using INSERT INTO command"
      ],
      "metadata": {
        "id": "0QHv-QQ0P1Ho"
      }
    },
    {
      "cell_type": "code",
      "source": [
        "%%sql INSERT INTO Customers(customer_id, first_name, last_name, email) VALUES\n",
        "    (1, 'John', 'Doe', 'johndoe@email.com'),\n",
        "    (2,'Jane', 'Smith', 'janesmith@email.com'),\n",
        "    (3, 'Bob', 'Johnson', 'bobjohnson@email.com'),\n",
        "    (4, 'Alice', 'Brown', 'alicebrown@email.com'),\n",
        "    (5, 'Charlie', 'Davis', 'charliedavis@email.com'),\n",
        "    (6, 'Eva','Fisher', 'evafisher@email.com'),\n",
        "    (7, 'George','Harris', 'georgeharris@email.com'),\n",
        "    (8, 'Ivy', 'Johnes', 'ivyjones@email.com'),\n",
        "    (9, 'kevin', 'Miller', 'kevinmiller@email.com'),\n",
        "    (10, 'Lilly', 'Nelson', 'lillynelson@email.com'),\n",
        "    (11, 'Oliver', 'Patterson', 'oliverpatterson@email.com'),\n",
        "    (12, 'Quinn', 'Roberts', 'quinnroberts@email.com'),\n",
        "    (13, 'Sophia', 'Thomas', 'sophiathomas@email.com');\n"
      ],
      "metadata": {
        "colab": {
          "base_uri": "https://localhost:8080/"
        },
        "id": "jqQNmEPsQBK9",
        "outputId": "558e860f-5a47-49ed-da2d-0007858c0dca"
      },
      "execution_count": null,
      "outputs": [
        {
          "output_type": "stream",
          "name": "stdout",
          "text": [
            "   sqlite:///ABC_DARA\n",
            "   sqlite:///ABC_DARA2ab.ipnyb\n",
            "   sqlite:///ABC_DATA\n",
            " * sqlite:///ABC_DATA.db\n",
            "   sqlite:///ABC_DATA2ab.ipnyb\n",
            "13 rows affected.\n"
          ]
        },
        {
          "output_type": "execute_result",
          "data": {
            "text/plain": [
              "[]"
            ]
          },
          "metadata": {},
          "execution_count": 49
        }
      ]
    },
    {
      "cell_type": "code",
      "source": [
        "%sql PRAGMA table_info ('Customers');\n"
      ],
      "metadata": {
        "colab": {
          "base_uri": "https://localhost:8080/",
          "height": 230
        },
        "id": "PZrz2BsJfL2T",
        "outputId": "c980c5c4-8a60-4b00-eaa3-16c98d6d9fc9"
      },
      "execution_count": null,
      "outputs": [
        {
          "output_type": "stream",
          "name": "stdout",
          "text": [
            "   sqlite:///ABC_DARA\n",
            "   sqlite:///ABC_DARA2ab.ipnyb\n",
            "   sqlite:///ABC_DATA\n",
            " * sqlite:///ABC_DATA.db\n",
            "   sqlite:///ABC_DATA2ab.ipnyb\n",
            "Done.\n"
          ]
        },
        {
          "output_type": "execute_result",
          "data": {
            "text/plain": [
              "[(0, 'customer_id', 'VARCHAR(25)', 0, None, 0),\n",
              " (1, 'first_name', 'VARCHAR(25)', 0, None, 0),\n",
              " (2, 'last_name', 'VARCHAR(25)', 0, None, 0),\n",
              " (3, 'email', 'VARCHAR(25)', 0, None, 0)]"
            ],
            "text/html": [
              "<table>\n",
              "    <thead>\n",
              "        <tr>\n",
              "            <th>cid</th>\n",
              "            <th>name</th>\n",
              "            <th>type</th>\n",
              "            <th>notnull</th>\n",
              "            <th>dflt_value</th>\n",
              "            <th>pk</th>\n",
              "        </tr>\n",
              "    </thead>\n",
              "    <tbody>\n",
              "        <tr>\n",
              "            <td>0</td>\n",
              "            <td>customer_id</td>\n",
              "            <td>VARCHAR(25)</td>\n",
              "            <td>0</td>\n",
              "            <td>None</td>\n",
              "            <td>0</td>\n",
              "        </tr>\n",
              "        <tr>\n",
              "            <td>1</td>\n",
              "            <td>first_name</td>\n",
              "            <td>VARCHAR(25)</td>\n",
              "            <td>0</td>\n",
              "            <td>None</td>\n",
              "            <td>0</td>\n",
              "        </tr>\n",
              "        <tr>\n",
              "            <td>2</td>\n",
              "            <td>last_name</td>\n",
              "            <td>VARCHAR(25)</td>\n",
              "            <td>0</td>\n",
              "            <td>None</td>\n",
              "            <td>0</td>\n",
              "        </tr>\n",
              "        <tr>\n",
              "            <td>3</td>\n",
              "            <td>email</td>\n",
              "            <td>VARCHAR(25)</td>\n",
              "            <td>0</td>\n",
              "            <td>None</td>\n",
              "            <td>0</td>\n",
              "        </tr>\n",
              "    </tbody>\n",
              "</table>"
            ]
          },
          "metadata": {},
          "execution_count": 50
        }
      ]
    },
    {
      "cell_type": "code",
      "source": [
        "%%sql INSERT INTO Products(product_id, product_name, price) VALUES\n",
        "    (1, 'Product A', 10.00),\n",
        "    (2, 'Product B', 15.00),\n",
        "    (3, 'Product C', 20.00),\n",
        "    (4, 'Product D', 25.00),\n",
        "    (5, 'Product E', 30.00),\n",
        "    (6, 'Product F', 35.00),\n",
        "    (7, 'Product G', 40.00),\n",
        "    (8, 'Product H', 45.00),\n",
        "    (9, 'Product I', 50.00),\n",
        "    (10, 'Product J', 55.00),\n",
        "    (11, 'Product K', 60.00),\n",
        "    (12, 'Product L', 65.00),\n",
        "    (13, 'Product M', 70.00);"
      ],
      "metadata": {
        "colab": {
          "base_uri": "https://localhost:8080/"
        },
        "id": "WyMuQiKgmbaX",
        "outputId": "0b4fa09f-02a5-4550-d9a1-93ebd8cefe8a"
      },
      "execution_count": 62,
      "outputs": [
        {
          "output_type": "stream",
          "name": "stdout",
          "text": [
            "   sqlite:///ABC_DARA\n",
            "   sqlite:///ABC_DARA2ab.ipnyb\n",
            "   sqlite:///ABC_DATA\n",
            " * sqlite:///ABC_DATA.db\n",
            "   sqlite:///ABC_DATA2ab.ipnyb\n",
            "13 rows affected.\n"
          ]
        },
        {
          "output_type": "execute_result",
          "data": {
            "text/plain": [
              "[]"
            ]
          },
          "metadata": {},
          "execution_count": 62
        }
      ]
    },
    {
      "cell_type": "code",
      "source": [
        "%%sql INSERT INTO orders (order_id, cutomer_id, order_date) VALUES\n",
        "  (1, 1, '2023-05-01'),\n",
        "    (2, 2, '2023-05-02'),\n",
        "    (3, 3, '2023-05-03'),\n",
        "    (4, 1, '2023-05-04'),\n",
        "    (5, 2, '2023-05-05'),\n",
        "    (6, 3, '2023-05-06'),\n",
        "    (7, 4, '2023-05-07'),\n",
        "    (8, 5, '2023-05-08'),\n",
        "    (9, 6, '2023-05-09'),\n",
        "    (10, 7, '2023-05-10'),\n",
        "    (11, 8, '2023-05-11'),\n",
        "    (12, 9, '2023-05-12'),\n",
        "    (13, 10, '2023-05-13'),\n",
        "    (14, 11, '2023-05-14'),\n",
        "    (15, 12, '2023-05-15'),\n",
        "    (16, 13, '2023-05-16');"
      ],
      "metadata": {
        "colab": {
          "base_uri": "https://localhost:8080/"
        },
        "id": "Vmi3tZpkm6Mc",
        "outputId": "72935eea-5a2c-4a8f-ec6e-b2822570bd1e"
      },
      "execution_count": 66,
      "outputs": [
        {
          "output_type": "stream",
          "name": "stdout",
          "text": [
            "   sqlite:///ABC_DARA\n",
            "   sqlite:///ABC_DARA2ab.ipnyb\n",
            "   sqlite:///ABC_DATA\n",
            " * sqlite:///ABC_DATA.db\n",
            "   sqlite:///ABC_DATA2ab.ipnyb\n",
            "16 rows affected.\n"
          ]
        },
        {
          "output_type": "execute_result",
          "data": {
            "text/plain": [
              "[]"
            ]
          },
          "metadata": {},
          "execution_count": 66
        }
      ]
    },
    {
      "cell_type": "code",
      "source": [
        "%%sql INSERT INTO Orders (order_id, customer_id, order_date) VALUES\n",
        "    (1, 1, '2023-05-01'),\n",
        "    (2, 2, '2023-05-02'),\n",
        "    (3, 3, '2023-05-03'),\n",
        "    (4, 1, '2023-05-04'),\n",
        "    (5, 2, '2023-05-05'),\n",
        "    (6, 3, '2023-05-06'),\n",
        "    (7, 4, '2023-05-07'),\n",
        "    (8, 5, '2023-05-08'),\n",
        "    (9, 6, '2023-05-09'),\n",
        "    (10, 7, '2023-05-10'),\n",
        "    (11, 8, '2023-05-11'),\n",
        "    (12, 9, '2023-05-12'),\n",
        "    (13, 10, '2023-05-13'),\n",
        "    (14, 11, '2023-05-14'),\n",
        "    (15, 12, '2023-05-15'),\n",
        "    (16, 13, '2023-05-16');"
      ],
      "metadata": {
        "colab": {
          "base_uri": "https://localhost:8080/"
        },
        "id": "7lmA_UwUoWuO",
        "outputId": "59f75e8b-238a-4735-aca9-97875611ca7c"
      },
      "execution_count": 70,
      "outputs": [
        {
          "output_type": "stream",
          "name": "stdout",
          "text": [
            "   sqlite:///ABC_DARA\n",
            "   sqlite:///ABC_DARA2ab.ipnyb\n",
            "   sqlite:///ABC_DATA\n",
            " * sqlite:///ABC_DATA.db\n",
            "   sqlite:///ABC_DATA2ab.ipnyb\n",
            "16 rows affected.\n"
          ]
        },
        {
          "output_type": "execute_result",
          "data": {
            "text/plain": [
              "[]"
            ]
          },
          "metadata": {},
          "execution_count": 70
        }
      ]
    },
    {
      "cell_type": "code",
      "source": [
        "%%sql INSERT INTO order_items (order_id, product_id, quantity) VALUES\n",
        "    (1, 1, 2),\n",
        "    (1, 2, 1),\n",
        "    (2, 2, 1),\n",
        "    (2, 3, 3),\n",
        "    (3, 1, 1),\n",
        "    (3, 3, 2),\n",
        "    (4, 2, 4),\n",
        "    (4, 3, 1),\n",
        "    (5, 1, 1),\n",
        "    (5, 3, 2),\n",
        "    (6, 2, 3),\n",
        "    (6, 1, 1),\n",
        "    (7, 4, 1),\n",
        "    (7, 5, 2),\n",
        "    (8, 6, 3),\n",
        "    (8, 7, 1),\n",
        "    (9, 8, 2),\n",
        "    (9, 9, 1),\n",
        "    (10, 10, 3),\n",
        "    (10, 11, 2),\n",
        "    (11, 12, 1),\n",
        "    (11, 13, 3),\n",
        "    (12, 4, 2),\n",
        "    (12, 5, 1),\n",
        "    (13, 6, 3),\n",
        "    (13, 7, 2),\n",
        "    (14, 8, 1),\n",
        "    (14, 9, 2),\n",
        "    (15, 10, 3),\n",
        "    (15, 11, 1),\n",
        "    (16, 12, 2),\n",
        "    (16, 13, 3);"
      ],
      "metadata": {
        "colab": {
          "base_uri": "https://localhost:8080/"
        },
        "id": "vHNrBP2Wo_q1",
        "outputId": "881841c4-d99c-4329-ec68-9f6d634a3aa1"
      },
      "execution_count": 76,
      "outputs": [
        {
          "output_type": "stream",
          "name": "stdout",
          "text": [
            "   sqlite:///ABC_DARA\n",
            "   sqlite:///ABC_DARA2ab.ipnyb\n",
            "   sqlite:///ABC_DATA\n",
            " * sqlite:///ABC_DATA.db\n",
            "   sqlite:///ABC_DATA2ab.ipnyb\n",
            "32 rows affected.\n"
          ]
        },
        {
          "output_type": "execute_result",
          "data": {
            "text/plain": [
              "[]"
            ]
          },
          "metadata": {},
          "execution_count": 76
        }
      ]
    },
    {
      "cell_type": "code",
      "source": [
        "%sql PRAGMA table_info ('Order_items');"
      ],
      "metadata": {
        "colab": {
          "base_uri": "https://localhost:8080/",
          "height": 209
        },
        "id": "4pdSsZWZqL0j",
        "outputId": "1ac2a158-13e1-4d79-9f3f-7d717e506994"
      },
      "execution_count": 77,
      "outputs": [
        {
          "output_type": "stream",
          "name": "stdout",
          "text": [
            "   sqlite:///ABC_DARA\n",
            "   sqlite:///ABC_DARA2ab.ipnyb\n",
            "   sqlite:///ABC_DATA\n",
            " * sqlite:///ABC_DATA.db\n",
            "   sqlite:///ABC_DATA2ab.ipnyb\n",
            "Done.\n"
          ]
        },
        {
          "output_type": "execute_result",
          "data": {
            "text/plain": [
              "[(0, 'order_id', 'INT(10)', 0, None, 0),\n",
              " (1, 'product_id', 'INT(10)', 0, None, 0),\n",
              " (2, 'quantity', 'INT(10)', 0, None, 0)]"
            ],
            "text/html": [
              "<table>\n",
              "    <thead>\n",
              "        <tr>\n",
              "            <th>cid</th>\n",
              "            <th>name</th>\n",
              "            <th>type</th>\n",
              "            <th>notnull</th>\n",
              "            <th>dflt_value</th>\n",
              "            <th>pk</th>\n",
              "        </tr>\n",
              "    </thead>\n",
              "    <tbody>\n",
              "        <tr>\n",
              "            <td>0</td>\n",
              "            <td>order_id</td>\n",
              "            <td>INT(10)</td>\n",
              "            <td>0</td>\n",
              "            <td>None</td>\n",
              "            <td>0</td>\n",
              "        </tr>\n",
              "        <tr>\n",
              "            <td>1</td>\n",
              "            <td>product_id</td>\n",
              "            <td>INT(10)</td>\n",
              "            <td>0</td>\n",
              "            <td>None</td>\n",
              "            <td>0</td>\n",
              "        </tr>\n",
              "        <tr>\n",
              "            <td>2</td>\n",
              "            <td>quantity</td>\n",
              "            <td>INT(10)</td>\n",
              "            <td>0</td>\n",
              "            <td>None</td>\n",
              "            <td>0</td>\n",
              "        </tr>\n",
              "    </tbody>\n",
              "</table>"
            ]
          },
          "metadata": {},
          "execution_count": 77
        }
      ]
    },
    {
      "cell_type": "markdown",
      "source": [
        "Week 2 Challenge"
      ],
      "metadata": {
        "id": "Gb-opjzlq_kg"
      }
    },
    {
      "cell_type": "markdown",
      "source": [
        "1. Which product has the highest price? Only return a single row."
      ],
      "metadata": {
        "id": "TY3SqOgSrDHX"
      }
    },
    {
      "cell_type": "code",
      "source": [
        "%sql SELECT MAX (price) FROM Products;"
      ],
      "metadata": {
        "colab": {
          "base_uri": "https://localhost:8080/",
          "height": 166
        },
        "id": "QX3vGV9Hq_Nz",
        "outputId": "7f3a84f0-97e3-4e96-9f5b-2e579b04cfcb"
      },
      "execution_count": 79,
      "outputs": [
        {
          "output_type": "stream",
          "name": "stdout",
          "text": [
            "   sqlite:///ABC_DARA\n",
            "   sqlite:///ABC_DARA2ab.ipnyb\n",
            "   sqlite:///ABC_DATA\n",
            " * sqlite:///ABC_DATA.db\n",
            "   sqlite:///ABC_DATA2ab.ipnyb\n",
            "Done.\n"
          ]
        },
        {
          "output_type": "execute_result",
          "data": {
            "text/plain": [
              "[(70,)]"
            ],
            "text/html": [
              "<table>\n",
              "    <thead>\n",
              "        <tr>\n",
              "            <th>MAX (price)</th>\n",
              "        </tr>\n",
              "    </thead>\n",
              "    <tbody>\n",
              "        <tr>\n",
              "            <td>70</td>\n",
              "        </tr>\n",
              "    </tbody>\n",
              "</table>"
            ]
          },
          "metadata": {},
          "execution_count": 79
        }
      ]
    },
    {
      "cell_type": "markdown",
      "source": [
        "2.Which order_id had the highest number of items in terms of quantity"
      ],
      "metadata": {
        "id": "s2EuxzVurGYr"
      }
    },
    {
      "cell_type": "code",
      "source": [
        "%sql SELECT MAX(quantity) FROM Order_items;"
      ],
      "metadata": {
        "colab": {
          "base_uri": "https://localhost:8080/",
          "height": 166
        },
        "id": "D9Z3hDALr4uS",
        "outputId": "807a868a-b5b7-4f6e-c0d7-d1c7a88858b8"
      },
      "execution_count": 80,
      "outputs": [
        {
          "output_type": "stream",
          "name": "stdout",
          "text": [
            "   sqlite:///ABC_DARA\n",
            "   sqlite:///ABC_DARA2ab.ipnyb\n",
            "   sqlite:///ABC_DATA\n",
            " * sqlite:///ABC_DATA.db\n",
            "   sqlite:///ABC_DATA2ab.ipnyb\n",
            "Done.\n"
          ]
        },
        {
          "output_type": "execute_result",
          "data": {
            "text/plain": [
              "[(4,)]"
            ],
            "text/html": [
              "<table>\n",
              "    <thead>\n",
              "        <tr>\n",
              "            <th>MAX(quantity)</th>\n",
              "        </tr>\n",
              "    </thead>\n",
              "    <tbody>\n",
              "        <tr>\n",
              "            <td>4</td>\n",
              "        </tr>\n",
              "    </tbody>\n",
              "</table>"
            ]
          },
          "metadata": {},
          "execution_count": 80
        }
      ]
    },
    {
      "cell_type": "markdown",
      "source": [
        "2b.Which order_id had the highest number of items in terms of quantity"
      ],
      "metadata": {
        "id": "4NzPchGSs_9f"
      }
    },
    {
      "cell_type": "code",
      "source": [
        "%sql SELECT MAX(order_id) FROM Orders;"
      ],
      "metadata": {
        "colab": {
          "base_uri": "https://localhost:8080/",
          "height": 166
        },
        "id": "yjp59xums8JT",
        "outputId": "7fa12023-a006-4759-af46-6ede0f49fc7a"
      },
      "execution_count": 81,
      "outputs": [
        {
          "output_type": "stream",
          "name": "stdout",
          "text": [
            "   sqlite:///ABC_DARA\n",
            "   sqlite:///ABC_DARA2ab.ipnyb\n",
            "   sqlite:///ABC_DATA\n",
            " * sqlite:///ABC_DATA.db\n",
            "   sqlite:///ABC_DATA2ab.ipnyb\n",
            "Done.\n"
          ]
        },
        {
          "output_type": "execute_result",
          "data": {
            "text/plain": [
              "[(16,)]"
            ],
            "text/html": [
              "<table>\n",
              "    <thead>\n",
              "        <tr>\n",
              "            <th>MAX(order_id)</th>\n",
              "        </tr>\n",
              "    </thead>\n",
              "    <tbody>\n",
              "        <tr>\n",
              "            <td>16</td>\n",
              "        </tr>\n",
              "    </tbody>\n",
              "</table>"
            ]
          },
          "metadata": {},
          "execution_count": 81
        }
      ]
    }
  ]
}